{
  "nbformat": 4,
  "nbformat_minor": 0,
  "metadata": {
    "colab": {
      "provenance": []
    },
    "kernelspec": {
      "name": "python3",
      "display_name": "Python 3"
    },
    "language_info": {
      "name": "python"
    }
  },
  "cells": [
    {
      "cell_type": "code",
      "execution_count": 1,
      "metadata": {
        "colab": {
          "base_uri": "https://localhost:8080/"
        },
        "id": "7Z8Ggn5CtiE-",
        "outputId": "0b3f3a25-4ee1-49a2-bf06-1f947fb2eda9"
      },
      "outputs": [
        {
          "output_type": "stream",
          "name": "stdout",
          "text": [
            "Requirement already satisfied: yfinance in /usr/local/lib/python3.10/dist-packages (0.2.40)\n",
            "Requirement already satisfied: pandas>=1.3.0 in /usr/local/lib/python3.10/dist-packages (from yfinance) (2.0.3)\n",
            "Requirement already satisfied: numpy>=1.16.5 in /usr/local/lib/python3.10/dist-packages (from yfinance) (1.25.2)\n",
            "Requirement already satisfied: requests>=2.31 in /usr/local/lib/python3.10/dist-packages (from yfinance) (2.31.0)\n",
            "Requirement already satisfied: multitasking>=0.0.7 in /usr/local/lib/python3.10/dist-packages (from yfinance) (0.0.11)\n",
            "Requirement already satisfied: lxml>=4.9.1 in /usr/local/lib/python3.10/dist-packages (from yfinance) (4.9.4)\n",
            "Requirement already satisfied: platformdirs>=2.0.0 in /usr/local/lib/python3.10/dist-packages (from yfinance) (4.2.2)\n",
            "Requirement already satisfied: pytz>=2022.5 in /usr/local/lib/python3.10/dist-packages (from yfinance) (2023.4)\n",
            "Requirement already satisfied: frozendict>=2.3.4 in /usr/local/lib/python3.10/dist-packages (from yfinance) (2.4.4)\n",
            "Requirement already satisfied: peewee>=3.16.2 in /usr/local/lib/python3.10/dist-packages (from yfinance) (3.17.5)\n",
            "Requirement already satisfied: beautifulsoup4>=4.11.1 in /usr/local/lib/python3.10/dist-packages (from yfinance) (4.12.3)\n",
            "Requirement already satisfied: html5lib>=1.1 in /usr/local/lib/python3.10/dist-packages (from yfinance) (1.1)\n",
            "Requirement already satisfied: soupsieve>1.2 in /usr/local/lib/python3.10/dist-packages (from beautifulsoup4>=4.11.1->yfinance) (2.5)\n",
            "Requirement already satisfied: six>=1.9 in /usr/local/lib/python3.10/dist-packages (from html5lib>=1.1->yfinance) (1.16.0)\n",
            "Requirement already satisfied: webencodings in /usr/local/lib/python3.10/dist-packages (from html5lib>=1.1->yfinance) (0.5.1)\n",
            "Requirement already satisfied: python-dateutil>=2.8.2 in /usr/local/lib/python3.10/dist-packages (from pandas>=1.3.0->yfinance) (2.8.2)\n",
            "Requirement already satisfied: tzdata>=2022.1 in /usr/local/lib/python3.10/dist-packages (from pandas>=1.3.0->yfinance) (2024.1)\n",
            "Requirement already satisfied: charset-normalizer<4,>=2 in /usr/local/lib/python3.10/dist-packages (from requests>=2.31->yfinance) (3.3.2)\n",
            "Requirement already satisfied: idna<4,>=2.5 in /usr/local/lib/python3.10/dist-packages (from requests>=2.31->yfinance) (3.7)\n",
            "Requirement already satisfied: urllib3<3,>=1.21.1 in /usr/local/lib/python3.10/dist-packages (from requests>=2.31->yfinance) (2.0.7)\n",
            "Requirement already satisfied: certifi>=2017.4.17 in /usr/local/lib/python3.10/dist-packages (from requests>=2.31->yfinance) (2024.6.2)\n"
          ]
        }
      ],
      "source": [
        "!pip install yfinance"
      ]
    },
    {
      "cell_type": "code",
      "source": [
        "def search_key_by_keyword(data: dict, keyword: str) -> list[str]:\n",
        "    return list(filter(lambda x: keyword in x.lower(), data.keys()))"
      ],
      "metadata": {
        "id": "-5iE09e4uVt-"
      },
      "execution_count": 3,
      "outputs": []
    },
    {
      "cell_type": "code",
      "source": [
        "import yfinance as yf\n",
        "\n",
        "msft = yf.Ticker(\"MSFT\")\n",
        "valid_market_keys = search_key_by_keyword(msft.info, \"price\")\n",
        "print(valid_market_keys)"
      ],
      "metadata": {
        "colab": {
          "base_uri": "https://localhost:8080/"
        },
        "id": "5ZyJy5k2uW2u",
        "outputId": "6463f159-a87b-486a-f9c4-fe6c5a7e0ae9"
      },
      "execution_count": 6,
      "outputs": [
        {
          "output_type": "stream",
          "name": "stdout",
          "text": [
            "['priceHint', 'priceToSalesTrailing12Months', 'priceToBook', 'currentPrice', 'targetHighPrice', 'targetLowPrice', 'targetMeanPrice', 'targetMedianPrice']\n"
          ]
        }
      ]
    },
    {
      "cell_type": "code",
      "source": [
        "\n",
        "ticker = yf.Ticker('GOOGL').info\n",
        "market_price = ticker['currentPrice']\n",
        "previous_close_price = ticker['regularMarketPreviousClose']\n",
        "print('Ticker: GOOGL')\n",
        "print('Market Price:', market_price)\n",
        "print('Previous Close Price:', previous_close_price)"
      ],
      "metadata": {
        "colab": {
          "base_uri": "https://localhost:8080/"
        },
        "id": "Ul3IiaDutmKe",
        "outputId": "84221f11-d85d-47c7-e437-a5c491b58c80"
      },
      "execution_count": 7,
      "outputs": [
        {
          "output_type": "stream",
          "name": "stdout",
          "text": [
            "Ticker: GOOGL\n",
            "Market Price: 175.16\n",
            "Previous Close Price: 177.79\n"
          ]
        }
      ]
    },
    {
      "cell_type": "code",
      "source": [
        "\n",
        "ticker = yf.Ticker('GOOGL').info\n",
        "print(ticker.keys())"
      ],
      "metadata": {
        "colab": {
          "base_uri": "https://localhost:8080/"
        },
        "id": "SzoR66rXtmtv",
        "outputId": "14448ef0-4d6d-46c8-c234-bf60b21ee2f8"
      },
      "execution_count": 8,
      "outputs": [
        {
          "output_type": "stream",
          "name": "stdout",
          "text": [
            "dict_keys(['address1', 'city', 'state', 'zip', 'country', 'phone', 'website', 'industry', 'industryKey', 'industryDisp', 'sector', 'sectorKey', 'sectorDisp', 'longBusinessSummary', 'fullTimeEmployees', 'companyOfficers', 'auditRisk', 'boardRisk', 'compensationRisk', 'shareHolderRightsRisk', 'overallRisk', 'governanceEpochDate', 'compensationAsOfEpochDate', 'maxAge', 'priceHint', 'previousClose', 'open', 'dayLow', 'dayHigh', 'regularMarketPreviousClose', 'regularMarketOpen', 'regularMarketDayLow', 'regularMarketDayHigh', 'dividendRate', 'dividendYield', 'exDividendDate', 'beta', 'trailingPE', 'forwardPE', 'volume', 'regularMarketVolume', 'averageVolume', 'averageVolume10days', 'averageDailyVolume10Day', 'bid', 'ask', 'bidSize', 'askSize', 'marketCap', 'fiftyTwoWeekLow', 'fiftyTwoWeekHigh', 'priceToSalesTrailing12Months', 'fiftyDayAverage', 'twoHundredDayAverage', 'currency', 'enterpriseValue', 'profitMargins', 'floatShares', 'sharesOutstanding', 'sharesShort', 'sharesShortPriorMonth', 'sharesShortPreviousMonthDate', 'dateShortInterest', 'sharesPercentSharesOut', 'heldPercentInsiders', 'heldPercentInstitutions', 'shortRatio', 'shortPercentOfFloat', 'impliedSharesOutstanding', 'bookValue', 'priceToBook', 'lastFiscalYearEnd', 'nextFiscalYearEnd', 'mostRecentQuarter', 'earningsQuarterlyGrowth', 'netIncomeToCommon', 'trailingEps', 'forwardEps', 'pegRatio', 'lastSplitFactor', 'lastSplitDate', 'enterpriseToRevenue', 'enterpriseToEbitda', '52WeekChange', 'SandP52WeekChange', 'lastDividendValue', 'lastDividendDate', 'exchange', 'quoteType', 'symbol', 'underlyingSymbol', 'shortName', 'longName', 'firstTradeDateEpochUtc', 'timeZoneFullName', 'timeZoneShortName', 'uuid', 'messageBoardId', 'gmtOffSetMilliseconds', 'currentPrice', 'targetHighPrice', 'targetLowPrice', 'targetMeanPrice', 'targetMedianPrice', 'recommendationMean', 'recommendationKey', 'numberOfAnalystOpinions', 'totalCash', 'totalCashPerShare', 'ebitda', 'totalDebt', 'quickRatio', 'currentRatio', 'totalRevenue', 'debtToEquity', 'revenuePerShare', 'returnOnAssets', 'returnOnEquity', 'freeCashflow', 'operatingCashflow', 'earningsGrowth', 'revenueGrowth', 'grossMargins', 'ebitdaMargins', 'operatingMargins', 'financialCurrency', 'trailingPegRatio'])\n"
          ]
        }
      ]
    },
    {
      "cell_type": "code",
      "source": [
        "\n",
        "\n",
        "# Set the start and end date\n",
        "start_date = '2020-01-01'\n",
        "end_date = '2022-01-01'\n",
        "\n",
        "# Set the ticker\n",
        "ticker = 'GOOGL'\n",
        "\n",
        "# Get the data\n",
        "data = yf.download(ticker, start_date, end_date)\n",
        "\n",
        "# Print the last 5 rows\n",
        "print(data.tail())"
      ],
      "metadata": {
        "colab": {
          "base_uri": "https://localhost:8080/"
        },
        "id": "KOdhujKntoVu",
        "outputId": "f316f35c-5273-4c18-e7ba-a9ec046caf93"
      },
      "execution_count": 9,
      "outputs": [
        {
          "output_type": "stream",
          "name": "stderr",
          "text": [
            "\r[*********************100%%**********************]  1 of 1 completed"
          ]
        },
        {
          "output_type": "stream",
          "name": "stdout",
          "text": [
            "                  Open        High         Low       Close   Adj Close  \\\n",
            "Date                                                                     \n",
            "2021-12-27  147.255997  148.343994  147.169495  147.906494  147.736938   \n",
            "2021-12-28  148.235992  148.298996  146.054504  146.686996  146.518845   \n",
            "2021-12-29  146.644501  147.417007  145.647507  146.654999  146.486877   \n",
            "2021-12-30  146.694000  147.300003  145.994507  146.200500  146.032898   \n",
            "2021-12-31  146.050003  146.698502  144.852005  144.852005  144.685944   \n",
            "\n",
            "              Volume  \n",
            "Date                  \n",
            "2021-12-27  15976000  \n",
            "2021-12-28  18200000  \n",
            "2021-12-29  17788000  \n",
            "2021-12-30  15688000  \n",
            "2021-12-31  18136000  \n"
          ]
        },
        {
          "output_type": "stream",
          "name": "stderr",
          "text": [
            "\n"
          ]
        }
      ]
    },
    {
      "cell_type": "code",
      "source": [
        "\n",
        "start_date = '2020-01-01'\n",
        "end_date = '2022-01-01'\n",
        "\n",
        "# Add multiple space separated tickers here\n",
        "ticker = 'GOOGL MSFT TSLA'\n",
        "data = yf.download(ticker, start_date, end_date)\n",
        "print(data.tail())"
      ],
      "metadata": {
        "colab": {
          "base_uri": "https://localhost:8080/"
        },
        "id": "incdIcnTttfo",
        "outputId": "6ce54076-efbb-4adc-e235-243e8476f578"
      },
      "execution_count": 10,
      "outputs": [
        {
          "output_type": "stream",
          "name": "stderr",
          "text": [
            "[*********************100%%**********************]  3 of 3 completed"
          ]
        },
        {
          "output_type": "stream",
          "name": "stdout",
          "text": [
            "Price        Adj Close                               Close              \\\n",
            "Ticker           GOOGL        MSFT        TSLA       GOOGL        MSFT   \n",
            "Date                                                                     \n",
            "2021-12-27  147.736938  335.064056  364.646667  147.906494  342.450012   \n",
            "2021-12-28  146.518845  333.889893  362.823334  146.686996  341.250000   \n",
            "2021-12-29  146.486877  334.574829  362.063324  146.654999  341.950012   \n",
            "2021-12-30  146.032898  332.001556  356.779999  146.200500  339.320007   \n",
            "2021-12-31  144.685944  329.066254  352.260010  144.852005  336.320007   \n",
            "\n",
            "Price                         High                                 Low  \\\n",
            "Ticker            TSLA       GOOGL        MSFT        TSLA       GOOGL   \n",
            "Date                                                                     \n",
            "2021-12-27  364.646667  148.343994  342.480011  372.333344  147.169495   \n",
            "2021-12-28  362.823334  148.298996  343.809998  373.000000  146.054504   \n",
            "2021-12-29  362.063324  147.417007  344.299988  368.000000  145.647507   \n",
            "2021-12-30  356.779999  147.300003  343.130005  365.183319  145.994507   \n",
            "2021-12-31  352.260010  146.698502  339.359985  360.666656  144.852005   \n",
            "\n",
            "Price                                     Open                          \\\n",
            "Ticker            MSFT        TSLA       GOOGL        MSFT        TSLA   \n",
            "Date                                                                     \n",
            "2021-12-27  335.429993  356.906677  147.255997  335.459991  357.890015   \n",
            "2021-12-28  340.320007  359.473328  148.235992  343.149994  369.829987   \n",
            "2021-12-29  339.679993  354.713318  146.644501  341.299988  366.213318   \n",
            "2021-12-30  338.820007  351.049988  146.694000  341.910004  353.776672   \n",
            "2021-12-31  335.850006  351.529999  146.050003  338.510010  357.813324   \n",
            "\n",
            "Price         Volume                      \n",
            "Ticker         GOOGL      MSFT      TSLA  \n",
            "Date                                      \n",
            "2021-12-27  15976000  19947000  71145900  \n",
            "2021-12-28  18200000  15661500  60324000  \n",
            "2021-12-29  17788000  15042000  56154000  \n",
            "2021-12-30  15688000  15994500  47040900  \n",
            "2021-12-31  18136000  18000800  40733700  \n"
          ]
        },
        {
          "output_type": "stream",
          "name": "stderr",
          "text": [
            "\n"
          ]
        }
      ]
    },
    {
      "cell_type": "code",
      "source": [
        "\n",
        "start_date = '2020-01-01'\n",
        "end_date = '2022-01-01'\n",
        "ticker = 'GOOGL'\n",
        "data = yf.download(ticker, start_date, end_date)\n",
        "data[\"Date\"] = data.index\n",
        "\n",
        "data = data[[\"Date\", \"Open\", \"High\",\n",
        "             \"Low\", \"Close\", \"Adj Close\", \"Volume\"]]\n",
        "\n",
        "data.reset_index(drop=True, inplace=True)\n",
        "print(data.head())"
      ],
      "metadata": {
        "colab": {
          "base_uri": "https://localhost:8080/"
        },
        "id": "IMuGyi-vus15",
        "outputId": "fb33c6d0-55df-4e81-f1da-a6cdb5ff1afc"
      },
      "execution_count": 11,
      "outputs": [
        {
          "output_type": "stream",
          "name": "stderr",
          "text": [
            "\r[*********************100%%**********************]  1 of 1 completed"
          ]
        },
        {
          "output_type": "stream",
          "name": "stdout",
          "text": [
            "        Date       Open       High        Low      Close  Adj Close    Volume\n",
            "0 2020-01-02  67.420502  68.433998  67.324501  68.433998  68.355545  27278000\n",
            "1 2020-01-03  67.400002  68.687500  67.365997  68.075996  67.997955  23408000\n",
            "2 2020-01-06  67.581497  69.916000  67.550003  69.890503  69.810379  46768000\n",
            "3 2020-01-07  70.023003  70.175003  69.578003  69.755501  69.675537  34330000\n",
            "4 2020-01-08  69.740997  70.592499  69.631500  70.251999  70.171463  35314000\n"
          ]
        },
        {
          "output_type": "stream",
          "name": "stderr",
          "text": [
            "\n"
          ]
        }
      ]
    },
    {
      "cell_type": "code",
      "source": [
        "\n",
        "start_date = '2020-01-01'\n",
        "end_date = '2022-01-01'\n",
        "ticker = 'GOOGL'\n",
        "data = yf.download(ticker, start_date, end_date)\n",
        "print(data.tail())\n",
        "\n",
        "# Export data to a CSV file\n",
        "data.to_csv(\"GOOGL.csv\")"
      ],
      "metadata": {
        "colab": {
          "base_uri": "https://localhost:8080/"
        },
        "id": "CpjSSGjBuvvF",
        "outputId": "d60b1b82-c97b-482a-b72a-cb35fd8b194e"
      },
      "execution_count": 12,
      "outputs": [
        {
          "output_type": "stream",
          "name": "stderr",
          "text": [
            "\r[*********************100%%**********************]  1 of 1 completed"
          ]
        },
        {
          "output_type": "stream",
          "name": "stdout",
          "text": [
            "                  Open        High         Low       Close   Adj Close  \\\n",
            "Date                                                                     \n",
            "2021-12-27  147.255997  148.343994  147.169495  147.906494  147.736938   \n",
            "2021-12-28  148.235992  148.298996  146.054504  146.686996  146.518845   \n",
            "2021-12-29  146.644501  147.417007  145.647507  146.654999  146.486877   \n",
            "2021-12-30  146.694000  147.300003  145.994507  146.200500  146.032898   \n",
            "2021-12-31  146.050003  146.698502  144.852005  144.852005  144.685944   \n",
            "\n",
            "              Volume  \n",
            "Date                  \n",
            "2021-12-27  15976000  \n",
            "2021-12-28  18200000  \n",
            "2021-12-29  17788000  \n",
            "2021-12-30  15688000  \n",
            "2021-12-31  18136000  \n"
          ]
        },
        {
          "output_type": "stream",
          "name": "stderr",
          "text": [
            "\n"
          ]
        }
      ]
    },
    {
      "cell_type": "code",
      "source": [],
      "metadata": {
        "id": "SFRWTdkRu7G-"
      },
      "execution_count": null,
      "outputs": []
    }
  ]
}